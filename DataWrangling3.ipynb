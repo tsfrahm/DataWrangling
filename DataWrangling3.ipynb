{
 "cells": [
  {
   "cell_type": "markdown",
   "id": "864caaf8-e5ad-4f7f-8b69-ac336ad06099",
   "metadata": {},
   "source": [
    "# Data Wrangling 3\n",
    "Coded by Tanner Frahm"
   ]
  },
  {
   "cell_type": "code",
   "execution_count": 114,
   "id": "143fb69c-4b4a-4d13-af7d-cdb703583400",
   "metadata": {},
   "outputs": [],
   "source": [
    "# Import needed packages\n",
    "import pandas as pd\n",
    "import numpy as np\n",
    "pd.set_option('display.max_colwidth', None)\n",
    "import matplotlib.pyplot as plt\n",
    "from matplotlib_venn import venn2, venn3"
   ]
  },
  {
   "cell_type": "code",
   "execution_count": 3,
   "id": "9b388e42-d872-4cc5-bf0b-1062e22f2b4b",
   "metadata": {},
   "outputs": [],
   "source": [
    "# Load in Data Set\n",
    "df = pd.read_csv('/users/tfrahm/OneDrive - University of Utah/school/u_of_u/2024_spring/Data_Wrangling/Module 4/Assignment 3/DW3_set_exercise.csv')"
   ]
  },
  {
   "cell_type": "code",
   "execution_count": 10,
   "id": "23c61ede-d7c1-4152-9d0d-554942cbb0b1",
   "metadata": {},
   "outputs": [],
   "source": [
    "diabetes_codes = ['E08','E09','E10','E11','E13']\n",
    "covid_codes = ['U07.1','J12.82']"
   ]
  },
  {
   "cell_type": "markdown",
   "id": "b5bbd521-890b-4b76-8fe2-28d3ff1bae09",
   "metadata": {},
   "source": [
    "#### Question 1\n",
    "Diabetes Set: (20 Points)\n",
    "a. Find all patients with Diabetes using the codes above by listing their patient IDs.\n",
    "b. Find the cardinality of the Diabetes set."
   ]
  },
  {
   "cell_type": "code",
   "execution_count": 67,
   "id": "82479309-7805-47b6-8053-25d3b97a399b",
   "metadata": {},
   "outputs": [
    {
     "data": {
      "text/plain": [
       "13       1841379.0\n",
       "15       6120921.0\n",
       "19       3465224.0\n",
       "29       1358532.0\n",
       "36       5537348.0\n",
       "           ...    \n",
       "40583    4682532.0\n",
       "40587    5804887.0\n",
       "40595    7160137.0\n",
       "40596    6607308.0\n",
       "40605    1340228.0\n",
       "Name: Patient ID, Length: 4651, dtype: float64"
      ]
     },
     "execution_count": 67,
     "metadata": {},
     "output_type": "execute_result"
    }
   ],
   "source": [
    "# Part A\n",
    "diabetes_pts = df[df['Diagnosis Code'].isin(diabetes_codes)].drop_duplicates(subset=['Patient ID'],keep = False)\n",
    "diabetes_pts['Patient ID']"
   ]
  },
  {
   "cell_type": "code",
   "execution_count": 68,
   "id": "25f30f6a-3df6-4f1d-8ab6-0e6f1bb386a1",
   "metadata": {},
   "outputs": [
    {
     "data": {
      "text/plain": [
       "4651"
      ]
     },
     "execution_count": 68,
     "metadata": {},
     "output_type": "execute_result"
    }
   ],
   "source": [
    "# Part B\n",
    "diabetes_pts['Patient ID'].count()"
   ]
  },
  {
   "cell_type": "markdown",
   "id": "eee5f10b-b64e-4d97-8d3e-a1291f387acd",
   "metadata": {},
   "source": [
    "#### Question 2\n",
    "COVID Set: (20 Points)\n",
    "a. Find all patients with COVID using the codes above by listing their patient IDs.\n",
    "b. Find the cardinality of the COVID set."
   ]
  },
  {
   "cell_type": "code",
   "execution_count": 72,
   "id": "a712df71-34ba-48ae-ad21-95c4c0598fc8",
   "metadata": {},
   "outputs": [
    {
     "data": {
      "text/plain": [
       "31       5692899.0\n",
       "44        665176.0\n",
       "52       3651321.0\n",
       "76       1282153.0\n",
       "91       5112391.0\n",
       "           ...    \n",
       "40535    1407181.0\n",
       "40544    6967147.0\n",
       "40553    5331556.0\n",
       "40557    5080120.0\n",
       "40598    2398290.0\n",
       "Name: Patient ID, Length: 1968, dtype: float64"
      ]
     },
     "execution_count": 72,
     "metadata": {},
     "output_type": "execute_result"
    }
   ],
   "source": [
    "# Part A\n",
    "covid_pts = df[df['Diagnosis Code'].isin(covid_codes)].drop_duplicates(subset=['Patient ID'],keep = False)\n",
    "covid_pts['Patient ID']"
   ]
  },
  {
   "cell_type": "code",
   "execution_count": 73,
   "id": "05329a93-752c-4623-9c0e-c134886985ef",
   "metadata": {},
   "outputs": [
    {
     "data": {
      "text/plain": [
       "1968"
      ]
     },
     "execution_count": 73,
     "metadata": {},
     "output_type": "execute_result"
    }
   ],
   "source": [
    "# Part B\n",
    "covid_pts['Patient ID'].count()"
   ]
  },
  {
   "cell_type": "markdown",
   "id": "8233ad24-f0a8-4b42-b5ce-a51836e16cfd",
   "metadata": {},
   "source": [
    "#### Question 3\n",
    "Intersection Set (20 Points)\n",
    "a. Find all patients with Diabetes and COVID using the codes above by listing their patient IDs.\n",
    "b. Find the cardinality of the Intersection set."
   ]
  },
  {
   "cell_type": "code",
   "execution_count": 78,
   "id": "98558a30-134d-4ecb-8989-487e369a8a4e",
   "metadata": {},
   "outputs": [
    {
     "data": {
      "text/plain": [
       "52       3651321.0\n",
       "350      2316131.0\n",
       "446      7542154.0\n",
       "532      6142172.0\n",
       "603      1428367.0\n",
       "           ...    \n",
       "38793    2348772.0\n",
       "39530    7373904.0\n",
       "39791    1080874.0\n",
       "39994    7069651.0\n",
       "40050    1441531.0\n",
       "Name: Patient ID, Length: 165, dtype: float64"
      ]
     },
     "execution_count": 78,
     "metadata": {},
     "output_type": "execute_result"
    }
   ],
   "source": [
    "# Part A\n",
    "intersection_pts = covid_pts[covid_pts['Patient ID'].isin(diabetes_pts['Patient ID'])]\n",
    "intersection_pts['Patient ID']"
   ]
  },
  {
   "cell_type": "code",
   "execution_count": 79,
   "id": "baaf1466-599a-4dfd-ab9e-9fa462341e36",
   "metadata": {},
   "outputs": [
    {
     "data": {
      "text/plain": [
       "165"
      ]
     },
     "execution_count": 79,
     "metadata": {},
     "output_type": "execute_result"
    }
   ],
   "source": [
    "# Part B\n",
    "intersection_pts['Patient ID'].count()"
   ]
  },
  {
   "cell_type": "markdown",
   "id": "d18cfea1-19bc-42fe-a980-99eba90c0fbf",
   "metadata": {},
   "source": [
    "#### Question 4\n",
    "Union Set (20 Points)\n",
    "a. Find all patients with Diabetes or COVID using the codes above by listing their patient IDs.\n",
    "b. Find the cardinality of the Intersection set."
   ]
  },
  {
   "cell_type": "code",
   "execution_count": 84,
   "id": "b62f5ad6-eb90-4ee4-b799-19156310fd2d",
   "metadata": {},
   "outputs": [
    {
     "data": {
      "text/plain": [
       "13       1841379.0\n",
       "15       6120921.0\n",
       "19       3465224.0\n",
       "29       1358532.0\n",
       "31       5692899.0\n",
       "           ...    \n",
       "40587    5804887.0\n",
       "40595    7160137.0\n",
       "40596    6607308.0\n",
       "40598    2398290.0\n",
       "40605    1340228.0\n",
       "Name: Patient ID, Length: 6289, dtype: float64"
      ]
     },
     "execution_count": 84,
     "metadata": {},
     "output_type": "execute_result"
    }
   ],
   "source": [
    "# Part A\n",
    "union_pts = df[df['Diagnosis Code'].isin(covid_codes + diabetes_codes)].drop_duplicates(subset=['Patient ID'],keep = False)\n",
    "union_pts['Patient ID']"
   ]
  },
  {
   "cell_type": "code",
   "execution_count": 85,
   "id": "4eb0fc17-6b55-404b-b15f-8e5e43c4c15d",
   "metadata": {},
   "outputs": [
    {
     "data": {
      "text/plain": [
       "Unnamed: 0        6289\n",
       "Patient ID        6289\n",
       "Diagnosis Code    6289\n",
       "Date              6289\n",
       "dtype: int64"
      ]
     },
     "execution_count": 85,
     "metadata": {},
     "output_type": "execute_result"
    }
   ],
   "source": [
    "# Part B\n",
    "union_pts.count()"
   ]
  },
  {
   "cell_type": "markdown",
   "id": "4e97dcbb-8e6b-40c8-88c9-05861ebe49d3",
   "metadata": {},
   "source": [
    "#### Question 5\n",
    "Draw a Venn diagram showing the Diabetes, COVID, Intersection and Union sets. You might need to use a package. (40 points)"
   ]
  },
  {
   "cell_type": "code",
   "execution_count": 95,
   "id": "83a69afd-6ed1-43af-b146-1d99b8436b04",
   "metadata": {},
   "outputs": [
    {
     "data": {
      "image/png": "[encoded data removed]",
      "text/plain": [
       "<Figure size 640x480 with 1 Axes>"
      ]
     },
     "metadata": {},
     "output_type": "display_data"
    }
   ],
   "source": [
    "venn2(subsets=(len(diabetes_pts['Patient ID'] - intersection_pts['Patient ID']), len(covid_pts['Patient ID'] - intersection_pts['Patient ID']), len(intersection_pts['Patient ID'])),set_labels = ('Diabetes','COVID'))\n",
    "\n",
    "plt.title('Venn Diagram Diabetes v. COVID')\n",
    "\n",
    "# Annotate the overall union\n",
    "plt.annotate(f'Overall Union: {len(union_pts)}', xy=(0.5, -0.1), xycoords='axes fraction', ha='center')\n",
    "\n",
    "plt.show()"
   ]
  },
  {
   "cell_type": "markdown",
   "id": "21e23d6a-996e-4e76-addb-2b38abf83cfa",
   "metadata": {},
   "source": [
    "#### Question 6\n",
    "Diabetes only after COVID Set (30 points)\n",
    "a. Now including the date of diagnosis, find all patients with Diabetes only after they had COVID by listing their patient IDs.\n",
    "b. Find the cardinality of the Diabetes only after COVID set.\n",
    "c. Provide a count breakdown for each of the diabetes codes listed above occurring only after COVID."
   ]
  },
  {
   "cell_type": "code",
   "execution_count": 102,
   "id": "0f87ec81-348d-4888-ab7e-b9fe873dea70",
   "metadata": {},
   "outputs": [
    {
     "data": {
      "text/html": [
       "<div>\n",
       "<style scoped>\n",
       "    .dataframe tbody tr th:only-of-type {\n",
       "        vertical-align: middle;\n",
       "    }\n",
       "\n",
       "    .dataframe tbody tr th {\n",
       "        vertical-align: top;\n",
       "    }\n",
       "\n",
       "    .dataframe thead th {\n",
       "        text-align: right;\n",
       "    }\n",
       "</style>\n",
       "<table border=\"1\" class=\"dataframe\">\n",
       "  <thead>\n",
       "    <tr style=\"text-align: right;\">\n",
       "      <th></th>\n",
       "      <th>Unnamed: 0</th>\n",
       "      <th>Patient ID</th>\n",
       "      <th>Diagnosis Code</th>\n",
       "      <th>Date</th>\n",
       "    </tr>\n",
       "  </thead>\n",
       "  <tbody>\n",
       "    <tr>\n",
       "      <th>0</th>\n",
       "      <td>0</td>\n",
       "      <td>4725559.0</td>\n",
       "      <td>E03.9</td>\n",
       "      <td>2020-09-20</td>\n",
       "    </tr>\n",
       "    <tr>\n",
       "      <th>1</th>\n",
       "      <td>1</td>\n",
       "      <td>7637008.0</td>\n",
       "      <td>R53.1</td>\n",
       "      <td>2019-10-27</td>\n",
       "    </tr>\n",
       "    <tr>\n",
       "      <th>2</th>\n",
       "      <td>2</td>\n",
       "      <td>5068050.0</td>\n",
       "      <td>I48.1</td>\n",
       "      <td>2020-11-22</td>\n",
       "    </tr>\n",
       "    <tr>\n",
       "      <th>3</th>\n",
       "      <td>3</td>\n",
       "      <td>1342235.0</td>\n",
       "      <td>E11.9</td>\n",
       "      <td>2022-01-27</td>\n",
       "    </tr>\n",
       "    <tr>\n",
       "      <th>4</th>\n",
       "      <td>4</td>\n",
       "      <td>4520230.0</td>\n",
       "      <td>N39.0</td>\n",
       "      <td>2020-05-17</td>\n",
       "    </tr>\n",
       "  </tbody>\n",
       "</table>\n",
       "</div>"
      ],
      "text/plain": [
       "   Unnamed: 0  Patient ID Diagnosis Code        Date\n",
       "0           0   4725559.0          E03.9  2020-09-20\n",
       "1           1   7637008.0          R53.1  2019-10-27\n",
       "2           2   5068050.0          I48.1  2020-11-22\n",
       "3           3   1342235.0          E11.9  2022-01-27\n",
       "4           4   4520230.0          N39.0  2020-05-17"
      ]
     },
     "execution_count": 102,
     "metadata": {},
     "output_type": "execute_result"
    }
   ],
   "source": [
    "# Part A\n",
    "df.head()"
   ]
  },
  {
   "cell_type": "code",
   "execution_count": 122,
   "id": "c9de5f7f-e025-4ff6-aaf7-50f9efdc3898",
   "metadata": {},
   "outputs": [
    {
     "data": {
      "text/plain": [
       "605      2465811.0\n",
       "689      7542154.0\n",
       "2066     2299370.0\n",
       "2983      138575.0\n",
       "3157      222248.0\n",
       "           ...    \n",
       "36793    4859240.0\n",
       "39022    2646629.0\n",
       "39390    4908235.0\n",
       "40055     626112.0\n",
       "40059    4322839.0\n",
       "Name: Patient ID, Length: 70, dtype: float64"
      ]
     },
     "execution_count": 122,
     "metadata": {},
     "output_type": "execute_result"
    }
   ],
   "source": [
    "# Part A\n",
    "# Convert Date to datetime\n",
    "df['Date'] = pd.to_datetime(df['Date'])\n",
    "\n",
    "# Filter for patients with COVID or Diabetes\n",
    "filtered_df = df[df['Patient ID'].isin(intersection_pts['Patient ID'])]\n",
    "\n",
    "# Group by ID and find the earliest diagnosis date for COVID and Diabetes\n",
    "grouped = filtered_df.groupby(['Patient ID', 'Diagnosis Code'])['Date'].min().unstack()\n",
    "grouped['COVID'] = grouped[covid_codes].min(axis=1)\n",
    "grouped['Diabetes'] = grouped[diabetes_codes].min(axis=1)\n",
    "\n",
    "# Find patients with Diabetes only after COVID\n",
    "patients_with_diabetes_after_covid = grouped[(grouped['Diabetes'] > grouped['COVID']) & pd.notnull(grouped['COVID'])].index\n",
    "\n",
    "# Filter the original df for filtered patients and their diabetes diagnoses\n",
    "diabetes_after_covid_df = filtered_df[(filtered_df['Patient ID'].isin(patients_with_diabetes_after_covid)) & (filtered_df['Diagnosis Code'].isin(diabetes_codes))]\n",
    "\n",
    "diabetes_after_covid_df['Patient ID']"
   ]
  },
  {
   "cell_type": "code",
   "execution_count": 123,
   "id": "de59c293-6154-45dd-aaab-d991b82a2b4c",
   "metadata": {},
   "outputs": [
    {
     "data": {
      "text/plain": [
       "70"
      ]
     },
     "execution_count": 123,
     "metadata": {},
     "output_type": "execute_result"
    }
   ],
   "source": [
    "# Part B\n",
    "diabetes_after_covid_df['Patient ID'].count()"
   ]
  },
  {
   "cell_type": "code",
   "execution_count": 125,
   "id": "140b7a68-c4f8-404e-8b99-01c7751f68c0",
   "metadata": {},
   "outputs": [
    {
     "data": {
      "text/plain": [
       "Diagnosis Code\n",
       "E11    17\n",
       "E13    16\n",
       "E10    16\n",
       "E08    13\n",
       "E09     8\n",
       "Name: count, dtype: int64"
      ]
     },
     "execution_count": 125,
     "metadata": {},
     "output_type": "execute_result"
    }
   ],
   "source": [
    "# Part C\n",
    "diabetes_after_covid_df['Diagnosis Code'].value_counts()"
   ]
  }
 ],
 "metadata": {
  "kernelspec": {
   "display_name": "Python 3 (ipykernel)",
   "language": "python",
   "name": "python3"
  },
  "language_info": {
   "codemirror_mode": {
    "name": "ipython",
    "version": 3
   },
   "file_extension": ".py",
   "mimetype": "text/x-python",
   "name": "python",
   "nbconvert_exporter": "python",
   "pygments_lexer": "ipython3",
   "version": "3.11.7"
  }
 },
 "nbformat": 4,
 "nbformat_minor": 5
}
